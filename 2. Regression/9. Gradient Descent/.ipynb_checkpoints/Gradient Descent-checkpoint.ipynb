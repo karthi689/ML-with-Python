{
 "cells": [
  {
   "cell_type": "markdown",
   "metadata": {},
   "source": [
    "# Gradient Descent\n",
    "\n",
    "Inspired [Chris McCormick on Gradient Descent Derivation](http://mccormickml.com/2014/03/04/gradient-descent-derivation/)"
   ]
  },
  {
   "cell_type": "markdown",
   "metadata": {},
   "source": [
    "# Background\n",
    "\n",
    "$$h(x) = \\theta_0 + \\theta_1X$$\n",
    "\n",
    "Find the values of $\\theta_0$ and $\\theta_1$ which provide the best fit of our hypothesis to a training set. \n",
    "\n",
    "The training set examples are labeled $x$, $y$, \n",
    "\n",
    "$x$ is the input value and $y$ is the output. \n",
    "\n",
    "The $i$th training example is labeled as $x^{(i)}$, $y^{(i)}$."
   ]
  },
  {
   "cell_type": "markdown",
   "metadata": {},
   "source": [
    "## MSE Cost Function\n",
    "\n",
    "The cost function $J$ for a particular choice of parameters $\\theta$ is the mean squared error (MSE):\n",
    "\n",
    "$$J(\\theta)=\\frac{1}{m}\\sum_{i=1}^m(h_{\\theta}(x^{(i)})-y^{(i)})^2$$\n",
    "\n",
    "$m$ The number of training examples\n",
    "\n",
    "$x^{(i)}$ The input vector for the $i^{th}$ training example\n",
    "\n",
    "$y^{(i)}$ The class label for the $i^{th}$ training example\n",
    "\n",
    "$\\theta$ The chosen parameter values of \"weights\" ($\\theta_0, \\theta_1, \\theta_2$)\n",
    "\n",
    "$h_{\\theta}(x^{(i)})$ The algorithm's prediction for the $i^{th}$ training example using the parameters $\\theta$\n",
    "\n",
    "The MSE measures the mean amount that the model's predictions deviate from the correct values.\n",
    "\n",
    "It is a measure of the model's performance on the training set. \n",
    "\n",
    "The cost is higher when the model is performing poorly on the training set. \n",
    "\n",
    "The objective of the learning algorithm is to find the parameters $\\theta$ which give the minimum possible cost $J$."
   ]
  },
  {
   "cell_type": "markdown",
   "metadata": {},
   "source": [
    "This minimization objective is expressed using the following notation, which simply states that we want to find the $\\theta$ which minimizes the cost $J(\\theta)$.\n",
    "\n",
    "$$\\min_{\\theta}J(\\theta)$$\n"
   ]
  },
  {
   "cell_type": "markdown",
   "metadata": {},
   "source": [
    "# Gradient Descent Minimization"
   ]
  },
  {
   "cell_type": "markdown",
   "metadata": {},
   "source": [
    "# Example One\n",
    "\n",
    "Assume the cost function is:\n",
    "\n",
    "$$J(\\theta)=\\theta^2$$\n",
    "\n",
    "And we want to find the value of $\\theta$ which minimises $J(\\theta)$\n",
    "\n",
    "Assume further we starts with $\\theta=3$"
   ]
  },
  {
   "cell_type": "markdown",
   "metadata": {},
   "source": [
    "Gradient descent is an iterative algorithm which we will run many times. \n",
    "\n",
    "On each iteration, we apply the following \"update rule\" (the $:=$ symbol means replace $\\theta$ with the value computed on the right):\n",
    "\n",
    "$$\\theta:=\\theta-\\alpha\\frac{d}{d\\theta}J(\\theta)$$\n",
    "\n",
    "Alpha is the learning rate. \n",
    "\n",
    "Assume $\\alpha$ = 0.1 for now.\n",
    "\n",
    "$$\\frac{d}{d\\theta}J(\\theta)=2\\theta$$\n"
   ]
  },
  {
   "cell_type": "code",
   "execution_count": 1,
   "metadata": {},
   "outputs": [],
   "source": [
    "import numpy as np                 # for numerical python\n",
    "import pandas as pd                # for data analysis\n",
    "import seaborn as sns              # for visualization\n",
    "import matplotlib.pyplot as plt\n",
    "\n",
    "sns.set(color_codes=True)\n",
    "%matplotlib inline"
   ]
  },
  {
   "cell_type": "code",
   "execution_count": 2,
   "metadata": {},
   "outputs": [
    {
     "name": "stdout",
     "output_type": "stream",
     "text": [
      "3.0000 0.6000\n",
      "2.4000 0.4800\n",
      "1.9200 0.3840\n",
      "1.5360 0.3072\n",
      "1.2288 0.2458\n",
      "0.9830 0.1966\n",
      "0.7864 0.1573\n",
      "0.6291 0.1258\n",
      "0.5033 0.1007\n",
      "0.4027 0.0805\n"
     ]
    }
   ],
   "source": [
    "theta = 3\n",
    "alpha = 0.1\n",
    "dat = []\n",
    "\n",
    "for oo in range(0,10):\n",
    "    res = alpha * 2 * theta # update rule\n",
    "    print(\"{0:.4f} {1:.4f}\".format(theta, res))\n",
    "    dat.append([theta, theta ** 2])\n",
    "    theta = theta - res"
   ]
  },
  {
   "cell_type": "code",
   "execution_count": 3,
   "metadata": {},
   "outputs": [
    {
     "data": {
      "text/html": [
       "<div>\n",
       "<style scoped>\n",
       "    .dataframe tbody tr th:only-of-type {\n",
       "        vertical-align: middle;\n",
       "    }\n",
       "\n",
       "    .dataframe tbody tr th {\n",
       "        vertical-align: top;\n",
       "    }\n",
       "\n",
       "    .dataframe thead th {\n",
       "        text-align: right;\n",
       "    }\n",
       "</style>\n",
       "<table border=\"1\" class=\"dataframe\">\n",
       "  <thead>\n",
       "    <tr style=\"text-align: right;\">\n",
       "      <th></th>\n",
       "      <th>0</th>\n",
       "      <th>1</th>\n",
       "    </tr>\n",
       "  </thead>\n",
       "  <tbody>\n",
       "    <tr>\n",
       "      <td>0</td>\n",
       "      <td>3.000000</td>\n",
       "      <td>9.000000</td>\n",
       "    </tr>\n",
       "    <tr>\n",
       "      <td>1</td>\n",
       "      <td>2.400000</td>\n",
       "      <td>5.760000</td>\n",
       "    </tr>\n",
       "    <tr>\n",
       "      <td>2</td>\n",
       "      <td>1.920000</td>\n",
       "      <td>3.686400</td>\n",
       "    </tr>\n",
       "    <tr>\n",
       "      <td>3</td>\n",
       "      <td>1.536000</td>\n",
       "      <td>2.359296</td>\n",
       "    </tr>\n",
       "    <tr>\n",
       "      <td>4</td>\n",
       "      <td>1.228800</td>\n",
       "      <td>1.509949</td>\n",
       "    </tr>\n",
       "    <tr>\n",
       "      <td>5</td>\n",
       "      <td>0.983040</td>\n",
       "      <td>0.966368</td>\n",
       "    </tr>\n",
       "    <tr>\n",
       "      <td>6</td>\n",
       "      <td>0.786432</td>\n",
       "      <td>0.618475</td>\n",
       "    </tr>\n",
       "    <tr>\n",
       "      <td>7</td>\n",
       "      <td>0.629146</td>\n",
       "      <td>0.395824</td>\n",
       "    </tr>\n",
       "    <tr>\n",
       "      <td>8</td>\n",
       "      <td>0.503316</td>\n",
       "      <td>0.253327</td>\n",
       "    </tr>\n",
       "    <tr>\n",
       "      <td>9</td>\n",
       "      <td>0.402653</td>\n",
       "      <td>0.162130</td>\n",
       "    </tr>\n",
       "  </tbody>\n",
       "</table>\n",
       "</div>"
      ],
      "text/plain": [
       "          0         1\n",
       "0  3.000000  9.000000\n",
       "1  2.400000  5.760000\n",
       "2  1.920000  3.686400\n",
       "3  1.536000  2.359296\n",
       "4  1.228800  1.509949\n",
       "5  0.983040  0.966368\n",
       "6  0.786432  0.618475\n",
       "7  0.629146  0.395824\n",
       "8  0.503316  0.253327\n",
       "9  0.402653  0.162130"
      ]
     },
     "execution_count": 3,
     "metadata": {},
     "output_type": "execute_result"
    }
   ],
   "source": [
    "tmp = pd.DataFrame(dat)\n",
    "tmp"
   ]
  },
  {
   "cell_type": "code",
   "execution_count": 4,
   "metadata": {},
   "outputs": [
    {
     "data": {
      "image/png": "[encoded data removed]",
      "text/plain": [
       "<Figure size 720x576 with 1 Axes>"
      ]
     },
     "metadata": {
      "needs_background": "light"
     },
     "output_type": "display_data"
    }
   ],
   "source": [
    "plt.figure(figsize=(10,8));\n",
    "\n",
    "plt.plot(np.linspace(-2, 4, 100), np.linspace(-2, 4, 100) ** 2);\n",
    "plt.scatter(tmp.iloc[:,0], tmp.iloc[:,1], marker='X');\n",
    "plt.xlabel('theta');\n",
    "plt.ylabel('J(theta)');\n",
    "\n",
    "plt.show();"
   ]
  },
  {
   "cell_type": "markdown",
   "metadata": {},
   "source": [
    "# Example Two\n",
    "\n",
    "$$J(\\theta)=\\theta^4 + \\theta^2$$\n",
    "\n",
    "$$\\frac{d}{d\\theta}J(\\theta)=4\\theta^3 + 2\\theta$$\n",
    "\n",
    "$$\\theta:=\\theta-\\alpha \\times (4\\theta^3 + 2\\theta)$$"
   ]
  },
  {
   "cell_type": "code",
   "execution_count": 5,
   "metadata": {},
   "outputs": [
    {
     "name": "stdout",
     "output_type": "stream",
     "text": [
      "3.0000 1.1400\n",
      "1.8600 0.2946\n",
      "1.5654 0.1847\n",
      "1.3807 0.1329\n",
      "1.2478 0.1027\n",
      "1.1451 0.0830\n",
      "1.0621 0.0692\n",
      "0.9930 0.0590\n",
      "0.9339 0.0513\n",
      "0.8827 0.0452\n"
     ]
    }
   ],
   "source": [
    "theta = 3\n",
    "alpha = 0.01\n",
    "dat = []\n",
    "\n",
    "for oo in range(0,10):\n",
    "    res = alpha * (4 * theta ** 3 + 2 * theta) # update rule\n",
    "    print(\"{0:.4f} {1:.4f}\".format(theta, res))\n",
    "    dat.append([theta, theta ** 4 + theta ** 2])\n",
    "    theta = theta - res"
   ]
  },
  {
   "cell_type": "code",
   "execution_count": 6,
   "metadata": {},
   "outputs": [
    {
     "data": {
      "text/html": [
       "<div>\n",
       "<style scoped>\n",
       "    .dataframe tbody tr th:only-of-type {\n",
       "        vertical-align: middle;\n",
       "    }\n",
       "\n",
       "    .dataframe tbody tr th {\n",
       "        vertical-align: top;\n",
       "    }\n",
       "\n",
       "    .dataframe thead th {\n",
       "        text-align: right;\n",
       "    }\n",
       "</style>\n",
       "<table border=\"1\" class=\"dataframe\">\n",
       "  <thead>\n",
       "    <tr style=\"text-align: right;\">\n",
       "      <th></th>\n",
       "      <th>0</th>\n",
       "      <th>1</th>\n",
       "    </tr>\n",
       "  </thead>\n",
       "  <tbody>\n",
       "    <tr>\n",
       "      <td>0</td>\n",
       "      <td>3.000000</td>\n",
       "      <td>90.000000</td>\n",
       "    </tr>\n",
       "    <tr>\n",
       "      <td>1</td>\n",
       "      <td>1.860000</td>\n",
       "      <td>15.428432</td>\n",
       "    </tr>\n",
       "    <tr>\n",
       "      <td>2</td>\n",
       "      <td>1.565406</td>\n",
       "      <td>8.455422</td>\n",
       "    </tr>\n",
       "    <tr>\n",
       "      <td>3</td>\n",
       "      <td>1.380657</td>\n",
       "      <td>5.539863</td>\n",
       "    </tr>\n",
       "    <tr>\n",
       "      <td>4</td>\n",
       "      <td>1.247771</td>\n",
       "      <td>3.980968</td>\n",
       "    </tr>\n",
       "    <tr>\n",
       "      <td>5</td>\n",
       "      <td>1.145108</td>\n",
       "      <td>3.030703</td>\n",
       "    </tr>\n",
       "    <tr>\n",
       "      <td>6</td>\n",
       "      <td>1.062144</td>\n",
       "      <td>2.400869</td>\n",
       "    </tr>\n",
       "    <tr>\n",
       "      <td>7</td>\n",
       "      <td>0.992970</td>\n",
       "      <td>1.958167</td>\n",
       "    </tr>\n",
       "    <tr>\n",
       "      <td>8</td>\n",
       "      <td>0.933949</td>\n",
       "      <td>1.633098</td>\n",
       "    </tr>\n",
       "    <tr>\n",
       "      <td>9</td>\n",
       "      <td>0.882684</td>\n",
       "      <td>1.386175</td>\n",
       "    </tr>\n",
       "  </tbody>\n",
       "</table>\n",
       "</div>"
      ],
      "text/plain": [
       "          0          1\n",
       "0  3.000000  90.000000\n",
       "1  1.860000  15.428432\n",
       "2  1.565406   8.455422\n",
       "3  1.380657   5.539863\n",
       "4  1.247771   3.980968\n",
       "5  1.145108   3.030703\n",
       "6  1.062144   2.400869\n",
       "7  0.992970   1.958167\n",
       "8  0.933949   1.633098\n",
       "9  0.882684   1.386175"
      ]
     },
     "execution_count": 6,
     "metadata": {},
     "output_type": "execute_result"
    }
   ],
   "source": [
    "tmp = pd.DataFrame(dat)\n",
    "tmp"
   ]
  },
  {
   "cell_type": "code",
   "execution_count": 7,
   "metadata": {},
   "outputs": [
    {
     "data": {
      "image/png": "[encoded data removed]",
      "text/plain": [
       "<Figure size 720x576 with 1 Axes>"
      ]
     },
     "metadata": {
      "needs_background": "light"
     },
     "output_type": "display_data"
    }
   ],
   "source": [
    "plt.figure(figsize=(10,8));\n",
    "\n",
    "x_grid = np.linspace(-2, 4, 100)\n",
    "plt.plot(x_grid, x_grid ** 4 + x_grid ** 2);\n",
    "plt.scatter(tmp.iloc[:,0], tmp.iloc[:,1], marker='X');\n",
    "plt.xlabel('theta');\n",
    "plt.ylabel('J(theta)');\n",
    "\n",
    "plt.show();"
   ]
  },
  {
   "cell_type": "markdown",
   "metadata": {},
   "source": [
    "## Cost Function\n",
    "\n",
    "$$J(\\theta)=\\frac{1}{m}\\sum_{i=1}^m(h_{\\theta}(x^{(i)})-y^{(i)})^2$$\n",
    "\n",
    "## Derivative of Cost Function\n",
    "\n",
    "$$\\frac{d}{d\\theta}J(\\theta)=\\frac{2}{m}\\sum_{i=1}^m(h_{\\theta}(x^{(i)})-y^{(i)}) \\times x^{(i)} $$\n",
    "\n",
    "## Update Rule\n",
    "\n",
    "$$\\theta_i:=\\theta_i-\\alpha\\frac{d}{d\\theta}J(\\theta)$$\n",
    "\n",
    "Substitute derivative of cost function to update rule\n",
    "\n",
    "$$\\theta_i:=\\theta_i-\\alpha \\times \\frac{2}{m}\\sum_{i=1}^m(h_{\\theta}(x^{(i)})-y^{(i)}) \\times x^{(i)} $$\n",
    "\n",
    "Simplifying everything, our gradient for the coefficient of x is just the average of our predicted values multiplied by their respective x value."
   ]
  },
  {
   "cell_type": "code",
   "execution_count": 8,
   "metadata": {},
   "outputs": [
    {
     "data": {
      "text/html": [
       "<div>\n",
       "<style scoped>\n",
       "    .dataframe tbody tr th:only-of-type {\n",
       "        vertical-align: middle;\n",
       "    }\n",
       "\n",
       "    .dataframe tbody tr th {\n",
       "        vertical-align: top;\n",
       "    }\n",
       "\n",
       "    .dataframe thead th {\n",
       "        text-align: right;\n",
       "    }\n",
       "</style>\n",
       "<table border=\"1\" class=\"dataframe\">\n",
       "  <thead>\n",
       "    <tr style=\"text-align: right;\">\n",
       "      <th></th>\n",
       "      <th>CRIM</th>\n",
       "      <th>ZN</th>\n",
       "      <th>INDUS</th>\n",
       "      <th>CHAS</th>\n",
       "      <th>NOX</th>\n",
       "      <th>RM</th>\n",
       "      <th>AGE</th>\n",
       "      <th>DIS</th>\n",
       "      <th>RAD</th>\n",
       "      <th>TAX</th>\n",
       "      <th>PTRATIO</th>\n",
       "      <th>B</th>\n",
       "      <th>LSTAT</th>\n",
       "    </tr>\n",
       "  </thead>\n",
       "  <tbody>\n",
       "    <tr>\n",
       "      <td>0</td>\n",
       "      <td>0.00632</td>\n",
       "      <td>18.0</td>\n",
       "      <td>2.31</td>\n",
       "      <td>0.0</td>\n",
       "      <td>0.538</td>\n",
       "      <td>6.575</td>\n",
       "      <td>65.2</td>\n",
       "      <td>4.0900</td>\n",
       "      <td>1.0</td>\n",
       "      <td>296.0</td>\n",
       "      <td>15.3</td>\n",
       "      <td>396.90</td>\n",
       "      <td>4.98</td>\n",
       "    </tr>\n",
       "    <tr>\n",
       "      <td>1</td>\n",
       "      <td>0.02731</td>\n",
       "      <td>0.0</td>\n",
       "      <td>7.07</td>\n",
       "      <td>0.0</td>\n",
       "      <td>0.469</td>\n",
       "      <td>6.421</td>\n",
       "      <td>78.9</td>\n",
       "      <td>4.9671</td>\n",
       "      <td>2.0</td>\n",
       "      <td>242.0</td>\n",
       "      <td>17.8</td>\n",
       "      <td>396.90</td>\n",
       "      <td>9.14</td>\n",
       "    </tr>\n",
       "    <tr>\n",
       "      <td>2</td>\n",
       "      <td>0.02729</td>\n",
       "      <td>0.0</td>\n",
       "      <td>7.07</td>\n",
       "      <td>0.0</td>\n",
       "      <td>0.469</td>\n",
       "      <td>7.185</td>\n",
       "      <td>61.1</td>\n",
       "      <td>4.9671</td>\n",
       "      <td>2.0</td>\n",
       "      <td>242.0</td>\n",
       "      <td>17.8</td>\n",
       "      <td>392.83</td>\n",
       "      <td>4.03</td>\n",
       "    </tr>\n",
       "    <tr>\n",
       "      <td>3</td>\n",
       "      <td>0.03237</td>\n",
       "      <td>0.0</td>\n",
       "      <td>2.18</td>\n",
       "      <td>0.0</td>\n",
       "      <td>0.458</td>\n",
       "      <td>6.998</td>\n",
       "      <td>45.8</td>\n",
       "      <td>6.0622</td>\n",
       "      <td>3.0</td>\n",
       "      <td>222.0</td>\n",
       "      <td>18.7</td>\n",
       "      <td>394.63</td>\n",
       "      <td>2.94</td>\n",
       "    </tr>\n",
       "    <tr>\n",
       "      <td>4</td>\n",
       "      <td>0.06905</td>\n",
       "      <td>0.0</td>\n",
       "      <td>2.18</td>\n",
       "      <td>0.0</td>\n",
       "      <td>0.458</td>\n",
       "      <td>7.147</td>\n",
       "      <td>54.2</td>\n",
       "      <td>6.0622</td>\n",
       "      <td>3.0</td>\n",
       "      <td>222.0</td>\n",
       "      <td>18.7</td>\n",
       "      <td>396.90</td>\n",
       "      <td>5.33</td>\n",
       "    </tr>\n",
       "  </tbody>\n",
       "</table>\n",
       "</div>"
      ],
      "text/plain": [
       "      CRIM    ZN  INDUS  CHAS    NOX     RM   AGE     DIS  RAD    TAX  \\\n",
       "0  0.00632  18.0   2.31   0.0  0.538  6.575  65.2  4.0900  1.0  296.0   \n",
       "1  0.02731   0.0   7.07   0.0  0.469  6.421  78.9  4.9671  2.0  242.0   \n",
       "2  0.02729   0.0   7.07   0.0  0.469  7.185  61.1  4.9671  2.0  242.0   \n",
       "3  0.03237   0.0   2.18   0.0  0.458  6.998  45.8  6.0622  3.0  222.0   \n",
       "4  0.06905   0.0   2.18   0.0  0.458  7.147  54.2  6.0622  3.0  222.0   \n",
       "\n",
       "   PTRATIO       B  LSTAT  \n",
       "0     15.3  396.90   4.98  \n",
       "1     17.8  396.90   9.14  \n",
       "2     17.8  392.83   4.03  \n",
       "3     18.7  394.63   2.94  \n",
       "4     18.7  396.90   5.33  "
      ]
     },
     "execution_count": 8,
     "metadata": {},
     "output_type": "execute_result"
    }
   ],
   "source": [
    "from sklearn.datasets import load_boston\n",
    "\n",
    "boston_data = load_boston()\n",
    "df = pd.DataFrame(boston_data.data, columns=boston_data.feature_names)\n",
    "\n",
    "df.head()"
   ]
  },
  {
   "cell_type": "code",
   "execution_count": null,
   "metadata": {},
   "outputs": [],
   "source": [
    "X = df[['LSTAT']].values\n",
    "X.s"
   ]
  }
 ],
 "metadata": {
  "kernelspec": {
   "display_name": "Python 3",
   "language": "python",
   "name": "python3"
  },
  "language_info": {
   "codemirror_mode": {
    "name": "ipython",
    "version": 3
   },
   "file_extension": ".py",
   "mimetype": "text/x-python",
   "name": "python",
   "nbconvert_exporter": "python",
   "pygments_lexer": "ipython3",
   "version": "3.7.4"
  }
 },
 "nbformat": 4,
 "nbformat_minor": 2
}
