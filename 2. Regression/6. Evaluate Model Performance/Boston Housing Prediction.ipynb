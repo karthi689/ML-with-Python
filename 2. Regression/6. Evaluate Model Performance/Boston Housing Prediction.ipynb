{
 "cells": [
  {
   "cell_type": "code",
   "execution_count": 44,
   "metadata": {},
   "outputs": [],
   "source": [
    "import numpy as np                 # for numerical python\n",
    "import pandas as pd                # for data analysis\n",
    "import seaborn as sns              # for visualization\n",
    "import matplotlib.pyplot as plt\n",
    "\n",
    "sns.set(color_codes=True)\n",
    "%matplotlib inline"
   ]
  },
  {
   "cell_type": "markdown",
   "metadata": {},
   "source": [
    "[Boston Housing dataset](https://archive.ics.uci.edu/ml/machine-learning-databases/housing/)"
   ]
  },
  {
   "cell_type": "code",
   "execution_count": 45,
   "metadata": {
    "scrolled": true
   },
   "outputs": [
    {
     "data": {
      "text/html": [
       "<div>\n",
       "<style scoped>\n",
       "    .dataframe tbody tr th:only-of-type {\n",
       "        vertical-align: middle;\n",
       "    }\n",
       "\n",
       "    .dataframe tbody tr th {\n",
       "        vertical-align: top;\n",
       "    }\n",
       "\n",
       "    .dataframe thead th {\n",
       "        text-align: right;\n",
       "    }\n",
       "</style>\n",
       "<table border=\"1\" class=\"dataframe\">\n",
       "  <thead>\n",
       "    <tr style=\"text-align: right;\">\n",
       "      <th></th>\n",
       "      <th>0</th>\n",
       "      <th>1</th>\n",
       "      <th>2</th>\n",
       "      <th>3</th>\n",
       "      <th>4</th>\n",
       "      <th>5</th>\n",
       "      <th>6</th>\n",
       "      <th>7</th>\n",
       "      <th>8</th>\n",
       "      <th>9</th>\n",
       "      <th>10</th>\n",
       "      <th>11</th>\n",
       "      <th>12</th>\n",
       "      <th>13</th>\n",
       "    </tr>\n",
       "  </thead>\n",
       "  <tbody>\n",
       "    <tr>\n",
       "      <td>0</td>\n",
       "      <td>0.006</td>\n",
       "      <td>18.000</td>\n",
       "      <td>2.310</td>\n",
       "      <td>0</td>\n",
       "      <td>0.538</td>\n",
       "      <td>6.575</td>\n",
       "      <td>65.200</td>\n",
       "      <td>4.090</td>\n",
       "      <td>1</td>\n",
       "      <td>296.000</td>\n",
       "      <td>15.300</td>\n",
       "      <td>396.900</td>\n",
       "      <td>4.980</td>\n",
       "      <td>24.000</td>\n",
       "    </tr>\n",
       "    <tr>\n",
       "      <td>1</td>\n",
       "      <td>0.027</td>\n",
       "      <td>0.000</td>\n",
       "      <td>7.070</td>\n",
       "      <td>0</td>\n",
       "      <td>0.469</td>\n",
       "      <td>6.421</td>\n",
       "      <td>78.900</td>\n",
       "      <td>4.967</td>\n",
       "      <td>2</td>\n",
       "      <td>242.000</td>\n",
       "      <td>17.800</td>\n",
       "      <td>396.900</td>\n",
       "      <td>9.140</td>\n",
       "      <td>21.600</td>\n",
       "    </tr>\n",
       "    <tr>\n",
       "      <td>2</td>\n",
       "      <td>0.027</td>\n",
       "      <td>0.000</td>\n",
       "      <td>7.070</td>\n",
       "      <td>0</td>\n",
       "      <td>0.469</td>\n",
       "      <td>7.185</td>\n",
       "      <td>61.100</td>\n",
       "      <td>4.967</td>\n",
       "      <td>2</td>\n",
       "      <td>242.000</td>\n",
       "      <td>17.800</td>\n",
       "      <td>392.830</td>\n",
       "      <td>4.030</td>\n",
       "      <td>34.700</td>\n",
       "    </tr>\n",
       "    <tr>\n",
       "      <td>3</td>\n",
       "      <td>0.032</td>\n",
       "      <td>0.000</td>\n",
       "      <td>2.180</td>\n",
       "      <td>0</td>\n",
       "      <td>0.458</td>\n",
       "      <td>6.998</td>\n",
       "      <td>45.800</td>\n",
       "      <td>6.062</td>\n",
       "      <td>3</td>\n",
       "      <td>222.000</td>\n",
       "      <td>18.700</td>\n",
       "      <td>394.630</td>\n",
       "      <td>2.940</td>\n",
       "      <td>33.400</td>\n",
       "    </tr>\n",
       "    <tr>\n",
       "      <td>4</td>\n",
       "      <td>0.069</td>\n",
       "      <td>0.000</td>\n",
       "      <td>2.180</td>\n",
       "      <td>0</td>\n",
       "      <td>0.458</td>\n",
       "      <td>7.147</td>\n",
       "      <td>54.200</td>\n",
       "      <td>6.062</td>\n",
       "      <td>3</td>\n",
       "      <td>222.000</td>\n",
       "      <td>18.700</td>\n",
       "      <td>396.900</td>\n",
       "      <td>5.330</td>\n",
       "      <td>36.200</td>\n",
       "    </tr>\n",
       "  </tbody>\n",
       "</table>\n",
       "</div>"
      ],
      "text/plain": [
       "     0      1     2   3     4     5      6     7   8       9      10      11  \\\n",
       "0 0.006 18.000 2.310   0 0.538 6.575 65.200 4.090   1 296.000 15.300 396.900   \n",
       "1 0.027  0.000 7.070   0 0.469 6.421 78.900 4.967   2 242.000 17.800 396.900   \n",
       "2 0.027  0.000 7.070   0 0.469 7.185 61.100 4.967   2 242.000 17.800 392.830   \n",
       "3 0.032  0.000 2.180   0 0.458 6.998 45.800 6.062   3 222.000 18.700 394.630   \n",
       "4 0.069  0.000 2.180   0 0.458 7.147 54.200 6.062   3 222.000 18.700 396.900   \n",
       "\n",
       "     12     13  \n",
       "0 4.980 24.000  \n",
       "1 9.140 21.600  \n",
       "2 4.030 34.700  \n",
       "3 2.940 33.400  \n",
       "4 5.330 36.200  "
      ]
     },
     "execution_count": 45,
     "metadata": {},
     "output_type": "execute_result"
    }
   ],
   "source": [
    "df = pd.read_csv('housing.data', delim_whitespace = True, header = None)\n",
    "df.head()"
   ]
  },
  {
   "cell_type": "markdown",
   "metadata": {},
   "source": [
    "| Code   | Description   |\n",
    "|:---|:---|\n",
    "|**CRIM** | per capita crime rate by town |\n",
    "|**ZN**  | proportion of residential land zoned for lots over 25,000 sq.ft. | \n",
    "|**INDUS**  | proportion of non-retail business acres per town | \n",
    "|**CHAS**  | Charles River dummy variable (= 1 if tract bounds river; 0 otherwise) | \n",
    "|**NOX**  | nitric oxides concentration (parts per 10 million) | \n",
    "|**RM**  | average number of rooms per dwelling | \n",
    "|**AGE**  | proportion of owner-occupied units built prior to 1940 | \n",
    "|**DIS**  | weighted distances to five Boston employment centres | \n",
    "|**RAD**  | index of accessibility to radial highways | \n",
    "|**TAX**  | full-value property-tax rate per $10,000 | \n",
    "|**PTRATIO**  | pupil-teacher ratio by town | \n",
    "|**B**  | 1000(Bk - 0.63)^2 where Bk is the proportion of blacks by town | \n",
    "|**LSTAT**  | % lower status of the population | \n",
    "|**MEDV**  | Median value of owner-occupied homes in \\$1000's | "
   ]
  },
  {
   "cell_type": "code",
   "execution_count": 46,
   "metadata": {},
   "outputs": [],
   "source": [
    "col_name = ['CRIM', 'ZN' , 'INDUS', 'CHAS', 'NOX', 'RM', 'AGE', 'DIS', 'RAD', 'TAX', 'PTRATIO', 'B', 'LSTAT', 'MEDV']"
   ]
  },
  {
   "cell_type": "code",
   "execution_count": 47,
   "metadata": {},
   "outputs": [],
   "source": [
    "df.columns = col_name"
   ]
  },
  {
   "cell_type": "code",
   "execution_count": 48,
   "metadata": {},
   "outputs": [
    {
     "data": {
      "text/html": [
       "<div>\n",
       "<style scoped>\n",
       "    .dataframe tbody tr th:only-of-type {\n",
       "        vertical-align: middle;\n",
       "    }\n",
       "\n",
       "    .dataframe tbody tr th {\n",
       "        vertical-align: top;\n",
       "    }\n",
       "\n",
       "    .dataframe thead th {\n",
       "        text-align: right;\n",
       "    }\n",
       "</style>\n",
       "<table border=\"1\" class=\"dataframe\">\n",
       "  <thead>\n",
       "    <tr style=\"text-align: right;\">\n",
       "      <th></th>\n",
       "      <th>CRIM</th>\n",
       "      <th>ZN</th>\n",
       "      <th>INDUS</th>\n",
       "      <th>CHAS</th>\n",
       "      <th>NOX</th>\n",
       "      <th>RM</th>\n",
       "      <th>AGE</th>\n",
       "      <th>DIS</th>\n",
       "      <th>RAD</th>\n",
       "      <th>TAX</th>\n",
       "      <th>PTRATIO</th>\n",
       "      <th>B</th>\n",
       "      <th>LSTAT</th>\n",
       "      <th>MEDV</th>\n",
       "    </tr>\n",
       "  </thead>\n",
       "  <tbody>\n",
       "    <tr>\n",
       "      <td>0</td>\n",
       "      <td>0.006</td>\n",
       "      <td>18.000</td>\n",
       "      <td>2.310</td>\n",
       "      <td>0</td>\n",
       "      <td>0.538</td>\n",
       "      <td>6.575</td>\n",
       "      <td>65.200</td>\n",
       "      <td>4.090</td>\n",
       "      <td>1</td>\n",
       "      <td>296.000</td>\n",
       "      <td>15.300</td>\n",
       "      <td>396.900</td>\n",
       "      <td>4.980</td>\n",
       "      <td>24.000</td>\n",
       "    </tr>\n",
       "    <tr>\n",
       "      <td>1</td>\n",
       "      <td>0.027</td>\n",
       "      <td>0.000</td>\n",
       "      <td>7.070</td>\n",
       "      <td>0</td>\n",
       "      <td>0.469</td>\n",
       "      <td>6.421</td>\n",
       "      <td>78.900</td>\n",
       "      <td>4.967</td>\n",
       "      <td>2</td>\n",
       "      <td>242.000</td>\n",
       "      <td>17.800</td>\n",
       "      <td>396.900</td>\n",
       "      <td>9.140</td>\n",
       "      <td>21.600</td>\n",
       "    </tr>\n",
       "    <tr>\n",
       "      <td>2</td>\n",
       "      <td>0.027</td>\n",
       "      <td>0.000</td>\n",
       "      <td>7.070</td>\n",
       "      <td>0</td>\n",
       "      <td>0.469</td>\n",
       "      <td>7.185</td>\n",
       "      <td>61.100</td>\n",
       "      <td>4.967</td>\n",
       "      <td>2</td>\n",
       "      <td>242.000</td>\n",
       "      <td>17.800</td>\n",
       "      <td>392.830</td>\n",
       "      <td>4.030</td>\n",
       "      <td>34.700</td>\n",
       "    </tr>\n",
       "    <tr>\n",
       "      <td>3</td>\n",
       "      <td>0.032</td>\n",
       "      <td>0.000</td>\n",
       "      <td>2.180</td>\n",
       "      <td>0</td>\n",
       "      <td>0.458</td>\n",
       "      <td>6.998</td>\n",
       "      <td>45.800</td>\n",
       "      <td>6.062</td>\n",
       "      <td>3</td>\n",
       "      <td>222.000</td>\n",
       "      <td>18.700</td>\n",
       "      <td>394.630</td>\n",
       "      <td>2.940</td>\n",
       "      <td>33.400</td>\n",
       "    </tr>\n",
       "    <tr>\n",
       "      <td>4</td>\n",
       "      <td>0.069</td>\n",
       "      <td>0.000</td>\n",
       "      <td>2.180</td>\n",
       "      <td>0</td>\n",
       "      <td>0.458</td>\n",
       "      <td>7.147</td>\n",
       "      <td>54.200</td>\n",
       "      <td>6.062</td>\n",
       "      <td>3</td>\n",
       "      <td>222.000</td>\n",
       "      <td>18.700</td>\n",
       "      <td>396.900</td>\n",
       "      <td>5.330</td>\n",
       "      <td>36.200</td>\n",
       "    </tr>\n",
       "  </tbody>\n",
       "</table>\n",
       "</div>"
      ],
      "text/plain": [
       "   CRIM     ZN  INDUS  CHAS   NOX    RM    AGE   DIS  RAD     TAX  PTRATIO  \\\n",
       "0 0.006 18.000  2.310     0 0.538 6.575 65.200 4.090    1 296.000   15.300   \n",
       "1 0.027  0.000  7.070     0 0.469 6.421 78.900 4.967    2 242.000   17.800   \n",
       "2 0.027  0.000  7.070     0 0.469 7.185 61.100 4.967    2 242.000   17.800   \n",
       "3 0.032  0.000  2.180     0 0.458 6.998 45.800 6.062    3 222.000   18.700   \n",
       "4 0.069  0.000  2.180     0 0.458 7.147 54.200 6.062    3 222.000   18.700   \n",
       "\n",
       "        B  LSTAT   MEDV  \n",
       "0 396.900  4.980 24.000  \n",
       "1 396.900  9.140 21.600  \n",
       "2 392.830  4.030 34.700  \n",
       "3 394.630  2.940 33.400  \n",
       "4 396.900  5.330 36.200  "
      ]
     },
     "execution_count": 48,
     "metadata": {},
     "output_type": "execute_result"
    }
   ],
   "source": [
    "df.head()"
   ]
  },
  {
   "cell_type": "markdown",
   "metadata": {},
   "source": [
    "# Exploratory Data Anaysis (EDA)"
   ]
  },
  {
   "cell_type": "code",
   "execution_count": 49,
   "metadata": {},
   "outputs": [
    {
     "data": {
      "text/html": [
       "<div>\n",
       "<style scoped>\n",
       "    .dataframe tbody tr th:only-of-type {\n",
       "        vertical-align: middle;\n",
       "    }\n",
       "\n",
       "    .dataframe tbody tr th {\n",
       "        vertical-align: top;\n",
       "    }\n",
       "\n",
       "    .dataframe thead th {\n",
       "        text-align: right;\n",
       "    }\n",
       "</style>\n",
       "<table border=\"1\" class=\"dataframe\">\n",
       "  <thead>\n",
       "    <tr style=\"text-align: right;\">\n",
       "      <th></th>\n",
       "      <th>CRIM</th>\n",
       "      <th>ZN</th>\n",
       "      <th>INDUS</th>\n",
       "      <th>CHAS</th>\n",
       "      <th>NOX</th>\n",
       "      <th>RM</th>\n",
       "      <th>AGE</th>\n",
       "      <th>DIS</th>\n",
       "      <th>RAD</th>\n",
       "      <th>TAX</th>\n",
       "      <th>PTRATIO</th>\n",
       "      <th>B</th>\n",
       "      <th>LSTAT</th>\n",
       "      <th>MEDV</th>\n",
       "    </tr>\n",
       "  </thead>\n",
       "  <tbody>\n",
       "    <tr>\n",
       "      <td>count</td>\n",
       "      <td>506.000</td>\n",
       "      <td>506.000</td>\n",
       "      <td>506.000</td>\n",
       "      <td>506.000</td>\n",
       "      <td>506.000</td>\n",
       "      <td>506.000</td>\n",
       "      <td>506.000</td>\n",
       "      <td>506.000</td>\n",
       "      <td>506.000</td>\n",
       "      <td>506.000</td>\n",
       "      <td>506.000</td>\n",
       "      <td>506.000</td>\n",
       "      <td>506.000</td>\n",
       "      <td>506.000</td>\n",
       "    </tr>\n",
       "    <tr>\n",
       "      <td>mean</td>\n",
       "      <td>3.614</td>\n",
       "      <td>11.364</td>\n",
       "      <td>11.137</td>\n",
       "      <td>0.069</td>\n",
       "      <td>0.555</td>\n",
       "      <td>6.285</td>\n",
       "      <td>68.575</td>\n",
       "      <td>3.795</td>\n",
       "      <td>9.549</td>\n",
       "      <td>408.237</td>\n",
       "      <td>18.456</td>\n",
       "      <td>356.674</td>\n",
       "      <td>12.653</td>\n",
       "      <td>22.533</td>\n",
       "    </tr>\n",
       "    <tr>\n",
       "      <td>std</td>\n",
       "      <td>8.602</td>\n",
       "      <td>23.322</td>\n",
       "      <td>6.860</td>\n",
       "      <td>0.254</td>\n",
       "      <td>0.116</td>\n",
       "      <td>0.703</td>\n",
       "      <td>28.149</td>\n",
       "      <td>2.106</td>\n",
       "      <td>8.707</td>\n",
       "      <td>168.537</td>\n",
       "      <td>2.165</td>\n",
       "      <td>91.295</td>\n",
       "      <td>7.141</td>\n",
       "      <td>9.197</td>\n",
       "    </tr>\n",
       "    <tr>\n",
       "      <td>min</td>\n",
       "      <td>0.006</td>\n",
       "      <td>0.000</td>\n",
       "      <td>0.460</td>\n",
       "      <td>0.000</td>\n",
       "      <td>0.385</td>\n",
       "      <td>3.561</td>\n",
       "      <td>2.900</td>\n",
       "      <td>1.130</td>\n",
       "      <td>1.000</td>\n",
       "      <td>187.000</td>\n",
       "      <td>12.600</td>\n",
       "      <td>0.320</td>\n",
       "      <td>1.730</td>\n",
       "      <td>5.000</td>\n",
       "    </tr>\n",
       "    <tr>\n",
       "      <td>25%</td>\n",
       "      <td>0.082</td>\n",
       "      <td>0.000</td>\n",
       "      <td>5.190</td>\n",
       "      <td>0.000</td>\n",
       "      <td>0.449</td>\n",
       "      <td>5.886</td>\n",
       "      <td>45.025</td>\n",
       "      <td>2.100</td>\n",
       "      <td>4.000</td>\n",
       "      <td>279.000</td>\n",
       "      <td>17.400</td>\n",
       "      <td>375.377</td>\n",
       "      <td>6.950</td>\n",
       "      <td>17.025</td>\n",
       "    </tr>\n",
       "    <tr>\n",
       "      <td>50%</td>\n",
       "      <td>0.257</td>\n",
       "      <td>0.000</td>\n",
       "      <td>9.690</td>\n",
       "      <td>0.000</td>\n",
       "      <td>0.538</td>\n",
       "      <td>6.208</td>\n",
       "      <td>77.500</td>\n",
       "      <td>3.207</td>\n",
       "      <td>5.000</td>\n",
       "      <td>330.000</td>\n",
       "      <td>19.050</td>\n",
       "      <td>391.440</td>\n",
       "      <td>11.360</td>\n",
       "      <td>21.200</td>\n",
       "    </tr>\n",
       "    <tr>\n",
       "      <td>75%</td>\n",
       "      <td>3.677</td>\n",
       "      <td>12.500</td>\n",
       "      <td>18.100</td>\n",
       "      <td>0.000</td>\n",
       "      <td>0.624</td>\n",
       "      <td>6.623</td>\n",
       "      <td>94.075</td>\n",
       "      <td>5.188</td>\n",
       "      <td>24.000</td>\n",
       "      <td>666.000</td>\n",
       "      <td>20.200</td>\n",
       "      <td>396.225</td>\n",
       "      <td>16.955</td>\n",
       "      <td>25.000</td>\n",
       "    </tr>\n",
       "    <tr>\n",
       "      <td>max</td>\n",
       "      <td>88.976</td>\n",
       "      <td>100.000</td>\n",
       "      <td>27.740</td>\n",
       "      <td>1.000</td>\n",
       "      <td>0.871</td>\n",
       "      <td>8.780</td>\n",
       "      <td>100.000</td>\n",
       "      <td>12.127</td>\n",
       "      <td>24.000</td>\n",
       "      <td>711.000</td>\n",
       "      <td>22.000</td>\n",
       "      <td>396.900</td>\n",
       "      <td>37.970</td>\n",
       "      <td>50.000</td>\n",
       "    </tr>\n",
       "  </tbody>\n",
       "</table>\n",
       "</div>"
      ],
      "text/plain": [
       "         CRIM      ZN   INDUS    CHAS     NOX      RM     AGE     DIS     RAD  \\\n",
       "count 506.000 506.000 506.000 506.000 506.000 506.000 506.000 506.000 506.000   \n",
       "mean    3.614  11.364  11.137   0.069   0.555   6.285  68.575   3.795   9.549   \n",
       "std     8.602  23.322   6.860   0.254   0.116   0.703  28.149   2.106   8.707   \n",
       "min     0.006   0.000   0.460   0.000   0.385   3.561   2.900   1.130   1.000   \n",
       "25%     0.082   0.000   5.190   0.000   0.449   5.886  45.025   2.100   4.000   \n",
       "50%     0.257   0.000   9.690   0.000   0.538   6.208  77.500   3.207   5.000   \n",
       "75%     3.677  12.500  18.100   0.000   0.624   6.623  94.075   5.188  24.000   \n",
       "max    88.976 100.000  27.740   1.000   0.871   8.780 100.000  12.127  24.000   \n",
       "\n",
       "          TAX  PTRATIO       B   LSTAT    MEDV  \n",
       "count 506.000  506.000 506.000 506.000 506.000  \n",
       "mean  408.237   18.456 356.674  12.653  22.533  \n",
       "std   168.537    2.165  91.295   7.141   9.197  \n",
       "min   187.000   12.600   0.320   1.730   5.000  \n",
       "25%   279.000   17.400 375.377   6.950  17.025  \n",
       "50%   330.000   19.050 391.440  11.360  21.200  \n",
       "75%   666.000   20.200 396.225  16.955  25.000  \n",
       "max   711.000   22.000 396.900  37.970  50.000  "
      ]
     },
     "execution_count": 49,
     "metadata": {},
     "output_type": "execute_result"
    }
   ],
   "source": [
    "df.describe()"
   ]
  },
  {
   "cell_type": "code",
   "execution_count": 50,
   "metadata": {},
   "outputs": [
    {
     "name": "stdout",
     "output_type": "stream",
     "text": [
      "<class 'pandas.core.frame.DataFrame'>\n",
      "RangeIndex: 506 entries, 0 to 505\n",
      "Data columns (total 14 columns):\n",
      "CRIM       506 non-null float64\n",
      "ZN         506 non-null float64\n",
      "INDUS      506 non-null float64\n",
      "CHAS       506 non-null int64\n",
      "NOX        506 non-null float64\n",
      "RM         506 non-null float64\n",
      "AGE        506 non-null float64\n",
      "DIS        506 non-null float64\n",
      "RAD        506 non-null int64\n",
      "TAX        506 non-null float64\n",
      "PTRATIO    506 non-null float64\n",
      "B          506 non-null float64\n",
      "LSTAT      506 non-null float64\n",
      "MEDV       506 non-null float64\n",
      "dtypes: float64(12), int64(2)\n",
      "memory usage: 55.5 KB\n"
     ]
    }
   ],
   "source": [
    "df.info()"
   ]
  },
  {
   "cell_type": "markdown",
   "metadata": {},
   "source": [
    "# Correlation Analysis and Feature Selection"
   ]
  },
  {
   "cell_type": "code",
   "execution_count": 51,
   "metadata": {},
   "outputs": [],
   "source": [
    "pd.options.display.float_format = '{:,.3f}'.format"
   ]
  },
  {
   "cell_type": "code",
   "execution_count": 52,
   "metadata": {},
   "outputs": [
    {
     "data": {
      "text/html": [
       "<div>\n",
       "<style scoped>\n",
       "    .dataframe tbody tr th:only-of-type {\n",
       "        vertical-align: middle;\n",
       "    }\n",
       "\n",
       "    .dataframe tbody tr th {\n",
       "        vertical-align: top;\n",
       "    }\n",
       "\n",
       "    .dataframe thead th {\n",
       "        text-align: right;\n",
       "    }\n",
       "</style>\n",
       "<table border=\"1\" class=\"dataframe\">\n",
       "  <thead>\n",
       "    <tr style=\"text-align: right;\">\n",
       "      <th></th>\n",
       "      <th>CRIM</th>\n",
       "      <th>ZN</th>\n",
       "      <th>INDUS</th>\n",
       "      <th>CHAS</th>\n",
       "      <th>NOX</th>\n",
       "      <th>RM</th>\n",
       "      <th>AGE</th>\n",
       "      <th>DIS</th>\n",
       "      <th>RAD</th>\n",
       "      <th>TAX</th>\n",
       "      <th>PTRATIO</th>\n",
       "      <th>B</th>\n",
       "      <th>LSTAT</th>\n",
       "      <th>MEDV</th>\n",
       "    </tr>\n",
       "  </thead>\n",
       "  <tbody>\n",
       "    <tr>\n",
       "      <td>CRIM</td>\n",
       "      <td>1.000</td>\n",
       "      <td>-0.200</td>\n",
       "      <td>0.407</td>\n",
       "      <td>-0.056</td>\n",
       "      <td>0.421</td>\n",
       "      <td>-0.219</td>\n",
       "      <td>0.353</td>\n",
       "      <td>-0.380</td>\n",
       "      <td>0.626</td>\n",
       "      <td>0.583</td>\n",
       "      <td>0.290</td>\n",
       "      <td>-0.385</td>\n",
       "      <td>0.456</td>\n",
       "      <td>-0.388</td>\n",
       "    </tr>\n",
       "    <tr>\n",
       "      <td>ZN</td>\n",
       "      <td>-0.200</td>\n",
       "      <td>1.000</td>\n",
       "      <td>-0.534</td>\n",
       "      <td>-0.043</td>\n",
       "      <td>-0.517</td>\n",
       "      <td>0.312</td>\n",
       "      <td>-0.570</td>\n",
       "      <td>0.664</td>\n",
       "      <td>-0.312</td>\n",
       "      <td>-0.315</td>\n",
       "      <td>-0.392</td>\n",
       "      <td>0.176</td>\n",
       "      <td>-0.413</td>\n",
       "      <td>0.360</td>\n",
       "    </tr>\n",
       "    <tr>\n",
       "      <td>INDUS</td>\n",
       "      <td>0.407</td>\n",
       "      <td>-0.534</td>\n",
       "      <td>1.000</td>\n",
       "      <td>0.063</td>\n",
       "      <td>0.764</td>\n",
       "      <td>-0.392</td>\n",
       "      <td>0.645</td>\n",
       "      <td>-0.708</td>\n",
       "      <td>0.595</td>\n",
       "      <td>0.721</td>\n",
       "      <td>0.383</td>\n",
       "      <td>-0.357</td>\n",
       "      <td>0.604</td>\n",
       "      <td>-0.484</td>\n",
       "    </tr>\n",
       "    <tr>\n",
       "      <td>CHAS</td>\n",
       "      <td>-0.056</td>\n",
       "      <td>-0.043</td>\n",
       "      <td>0.063</td>\n",
       "      <td>1.000</td>\n",
       "      <td>0.091</td>\n",
       "      <td>0.091</td>\n",
       "      <td>0.087</td>\n",
       "      <td>-0.099</td>\n",
       "      <td>-0.007</td>\n",
       "      <td>-0.036</td>\n",
       "      <td>-0.122</td>\n",
       "      <td>0.049</td>\n",
       "      <td>-0.054</td>\n",
       "      <td>0.175</td>\n",
       "    </tr>\n",
       "    <tr>\n",
       "      <td>NOX</td>\n",
       "      <td>0.421</td>\n",
       "      <td>-0.517</td>\n",
       "      <td>0.764</td>\n",
       "      <td>0.091</td>\n",
       "      <td>1.000</td>\n",
       "      <td>-0.302</td>\n",
       "      <td>0.731</td>\n",
       "      <td>-0.769</td>\n",
       "      <td>0.611</td>\n",
       "      <td>0.668</td>\n",
       "      <td>0.189</td>\n",
       "      <td>-0.380</td>\n",
       "      <td>0.591</td>\n",
       "      <td>-0.427</td>\n",
       "    </tr>\n",
       "    <tr>\n",
       "      <td>RM</td>\n",
       "      <td>-0.219</td>\n",
       "      <td>0.312</td>\n",
       "      <td>-0.392</td>\n",
       "      <td>0.091</td>\n",
       "      <td>-0.302</td>\n",
       "      <td>1.000</td>\n",
       "      <td>-0.240</td>\n",
       "      <td>0.205</td>\n",
       "      <td>-0.210</td>\n",
       "      <td>-0.292</td>\n",
       "      <td>-0.356</td>\n",
       "      <td>0.128</td>\n",
       "      <td>-0.614</td>\n",
       "      <td>0.695</td>\n",
       "    </tr>\n",
       "    <tr>\n",
       "      <td>AGE</td>\n",
       "      <td>0.353</td>\n",
       "      <td>-0.570</td>\n",
       "      <td>0.645</td>\n",
       "      <td>0.087</td>\n",
       "      <td>0.731</td>\n",
       "      <td>-0.240</td>\n",
       "      <td>1.000</td>\n",
       "      <td>-0.748</td>\n",
       "      <td>0.456</td>\n",
       "      <td>0.506</td>\n",
       "      <td>0.262</td>\n",
       "      <td>-0.274</td>\n",
       "      <td>0.602</td>\n",
       "      <td>-0.377</td>\n",
       "    </tr>\n",
       "    <tr>\n",
       "      <td>DIS</td>\n",
       "      <td>-0.380</td>\n",
       "      <td>0.664</td>\n",
       "      <td>-0.708</td>\n",
       "      <td>-0.099</td>\n",
       "      <td>-0.769</td>\n",
       "      <td>0.205</td>\n",
       "      <td>-0.748</td>\n",
       "      <td>1.000</td>\n",
       "      <td>-0.495</td>\n",
       "      <td>-0.534</td>\n",
       "      <td>-0.232</td>\n",
       "      <td>0.292</td>\n",
       "      <td>-0.497</td>\n",
       "      <td>0.250</td>\n",
       "    </tr>\n",
       "    <tr>\n",
       "      <td>RAD</td>\n",
       "      <td>0.626</td>\n",
       "      <td>-0.312</td>\n",
       "      <td>0.595</td>\n",
       "      <td>-0.007</td>\n",
       "      <td>0.611</td>\n",
       "      <td>-0.210</td>\n",
       "      <td>0.456</td>\n",
       "      <td>-0.495</td>\n",
       "      <td>1.000</td>\n",
       "      <td>0.910</td>\n",
       "      <td>0.465</td>\n",
       "      <td>-0.444</td>\n",
       "      <td>0.489</td>\n",
       "      <td>-0.382</td>\n",
       "    </tr>\n",
       "    <tr>\n",
       "      <td>TAX</td>\n",
       "      <td>0.583</td>\n",
       "      <td>-0.315</td>\n",
       "      <td>0.721</td>\n",
       "      <td>-0.036</td>\n",
       "      <td>0.668</td>\n",
       "      <td>-0.292</td>\n",
       "      <td>0.506</td>\n",
       "      <td>-0.534</td>\n",
       "      <td>0.910</td>\n",
       "      <td>1.000</td>\n",
       "      <td>0.461</td>\n",
       "      <td>-0.442</td>\n",
       "      <td>0.544</td>\n",
       "      <td>-0.469</td>\n",
       "    </tr>\n",
       "    <tr>\n",
       "      <td>PTRATIO</td>\n",
       "      <td>0.290</td>\n",
       "      <td>-0.392</td>\n",
       "      <td>0.383</td>\n",
       "      <td>-0.122</td>\n",
       "      <td>0.189</td>\n",
       "      <td>-0.356</td>\n",
       "      <td>0.262</td>\n",
       "      <td>-0.232</td>\n",
       "      <td>0.465</td>\n",
       "      <td>0.461</td>\n",
       "      <td>1.000</td>\n",
       "      <td>-0.177</td>\n",
       "      <td>0.374</td>\n",
       "      <td>-0.508</td>\n",
       "    </tr>\n",
       "    <tr>\n",
       "      <td>B</td>\n",
       "      <td>-0.385</td>\n",
       "      <td>0.176</td>\n",
       "      <td>-0.357</td>\n",
       "      <td>0.049</td>\n",
       "      <td>-0.380</td>\n",
       "      <td>0.128</td>\n",
       "      <td>-0.274</td>\n",
       "      <td>0.292</td>\n",
       "      <td>-0.444</td>\n",
       "      <td>-0.442</td>\n",
       "      <td>-0.177</td>\n",
       "      <td>1.000</td>\n",
       "      <td>-0.366</td>\n",
       "      <td>0.333</td>\n",
       "    </tr>\n",
       "    <tr>\n",
       "      <td>LSTAT</td>\n",
       "      <td>0.456</td>\n",
       "      <td>-0.413</td>\n",
       "      <td>0.604</td>\n",
       "      <td>-0.054</td>\n",
       "      <td>0.591</td>\n",
       "      <td>-0.614</td>\n",
       "      <td>0.602</td>\n",
       "      <td>-0.497</td>\n",
       "      <td>0.489</td>\n",
       "      <td>0.544</td>\n",
       "      <td>0.374</td>\n",
       "      <td>-0.366</td>\n",
       "      <td>1.000</td>\n",
       "      <td>-0.738</td>\n",
       "    </tr>\n",
       "    <tr>\n",
       "      <td>MEDV</td>\n",
       "      <td>-0.388</td>\n",
       "      <td>0.360</td>\n",
       "      <td>-0.484</td>\n",
       "      <td>0.175</td>\n",
       "      <td>-0.427</td>\n",
       "      <td>0.695</td>\n",
       "      <td>-0.377</td>\n",
       "      <td>0.250</td>\n",
       "      <td>-0.382</td>\n",
       "      <td>-0.469</td>\n",
       "      <td>-0.508</td>\n",
       "      <td>0.333</td>\n",
       "      <td>-0.738</td>\n",
       "      <td>1.000</td>\n",
       "    </tr>\n",
       "  </tbody>\n",
       "</table>\n",
       "</div>"
      ],
      "text/plain": [
       "          CRIM     ZN  INDUS   CHAS    NOX     RM    AGE    DIS    RAD    TAX  \\\n",
       "CRIM     1.000 -0.200  0.407 -0.056  0.421 -0.219  0.353 -0.380  0.626  0.583   \n",
       "ZN      -0.200  1.000 -0.534 -0.043 -0.517  0.312 -0.570  0.664 -0.312 -0.315   \n",
       "INDUS    0.407 -0.534  1.000  0.063  0.764 -0.392  0.645 -0.708  0.595  0.721   \n",
       "CHAS    -0.056 -0.043  0.063  1.000  0.091  0.091  0.087 -0.099 -0.007 -0.036   \n",
       "NOX      0.421 -0.517  0.764  0.091  1.000 -0.302  0.731 -0.769  0.611  0.668   \n",
       "RM      -0.219  0.312 -0.392  0.091 -0.302  1.000 -0.240  0.205 -0.210 -0.292   \n",
       "AGE      0.353 -0.570  0.645  0.087  0.731 -0.240  1.000 -0.748  0.456  0.506   \n",
       "DIS     -0.380  0.664 -0.708 -0.099 -0.769  0.205 -0.748  1.000 -0.495 -0.534   \n",
       "RAD      0.626 -0.312  0.595 -0.007  0.611 -0.210  0.456 -0.495  1.000  0.910   \n",
       "TAX      0.583 -0.315  0.721 -0.036  0.668 -0.292  0.506 -0.534  0.910  1.000   \n",
       "PTRATIO  0.290 -0.392  0.383 -0.122  0.189 -0.356  0.262 -0.232  0.465  0.461   \n",
       "B       -0.385  0.176 -0.357  0.049 -0.380  0.128 -0.274  0.292 -0.444 -0.442   \n",
       "LSTAT    0.456 -0.413  0.604 -0.054  0.591 -0.614  0.602 -0.497  0.489  0.544   \n",
       "MEDV    -0.388  0.360 -0.484  0.175 -0.427  0.695 -0.377  0.250 -0.382 -0.469   \n",
       "\n",
       "         PTRATIO      B  LSTAT   MEDV  \n",
       "CRIM       0.290 -0.385  0.456 -0.388  \n",
       "ZN        -0.392  0.176 -0.413  0.360  \n",
       "INDUS      0.383 -0.357  0.604 -0.484  \n",
       "CHAS      -0.122  0.049 -0.054  0.175  \n",
       "NOX        0.189 -0.380  0.591 -0.427  \n",
       "RM        -0.356  0.128 -0.614  0.695  \n",
       "AGE        0.262 -0.274  0.602 -0.377  \n",
       "DIS       -0.232  0.292 -0.497  0.250  \n",
       "RAD        0.465 -0.444  0.489 -0.382  \n",
       "TAX        0.461 -0.442  0.544 -0.469  \n",
       "PTRATIO    1.000 -0.177  0.374 -0.508  \n",
       "B         -0.177  1.000 -0.366  0.333  \n",
       "LSTAT      0.374 -0.366  1.000 -0.738  \n",
       "MEDV      -0.508  0.333 -0.738  1.000  "
      ]
     },
     "execution_count": 52,
     "metadata": {},
     "output_type": "execute_result"
    }
   ],
   "source": [
    "df.corr()"
   ]
  },
  {
   "cell_type": "code",
   "execution_count": 53,
   "metadata": {},
   "outputs": [
    {
     "data": {
      "image/png": "[encoded data removed]",
      "text/plain": [
       "<Figure size 1152x720 with 2 Axes>"
      ]
     },
     "metadata": {
      "needs_background": "light"
     },
     "output_type": "display_data"
    }
   ],
   "source": [
    "plt.figure(figsize=(16,10));\n",
    "\n",
    "ax = sns.heatmap(df.corr(), annot = True); #notation: \"annot\" not \"annote\"\n",
    "bottom, top = ax.get_ylim();\n",
    "ax.set_ylim(bottom + 0.5, top - 0.5);\n",
    "\n",
    "plt.show();"
   ]
  },
  {
   "cell_type": "markdown",
   "metadata": {},
   "source": [
    "## RANdom SAmple Consensus (RANSAC) Algorithm\n",
    "\n",
    "link = [http://scikit-learn.org/stable/modules/linear_model.html#ransac-regression](http://scikit-learn.org/stable/modules/linear_model.html#ransac-regression)\n",
    "\n",
    "[RANSAC Algorithm](https://scikit-learn.org/stable/modules/linear_model.html#ransac-regression)"
   ]
  },
  {
   "cell_type": "markdown",
   "metadata": {},
   "source": [
    "Each iteration performs the following steps:\n",
    "\n",
    "1. Select `min_samples` random samples from the original data and check whether the set of data is valid (see `is_data_valid`).\n",
    "\n",
    "2. Fit a model to the random subset (`base_estimator.fit`) and check whether the estimated model is valid (see `is_model_valid`).\n",
    "\n",
    "3. Classify all data as inliers or outliers by calculating the residuals to the estimated model (`base_estimator.predict(X) - y`) - all data samples with absolute residuals smaller than the `residual_threshold` are considered as inliers.\n",
    "\n",
    "4. Save fitted model as best model if number of inlier samples is maximal. In case the current estimated model has the same number of inliers, it is only considered as the best model if it has better score."
   ]
  },
  {
   "cell_type": "code",
   "execution_count": 54,
   "metadata": {},
   "outputs": [
    {
     "data": {
      "text/html": [
       "<div>\n",
       "<style scoped>\n",
       "    .dataframe tbody tr th:only-of-type {\n",
       "        vertical-align: middle;\n",
       "    }\n",
       "\n",
       "    .dataframe tbody tr th {\n",
       "        vertical-align: top;\n",
       "    }\n",
       "\n",
       "    .dataframe thead th {\n",
       "        text-align: right;\n",
       "    }\n",
       "</style>\n",
       "<table border=\"1\" class=\"dataframe\">\n",
       "  <thead>\n",
       "    <tr style=\"text-align: right;\">\n",
       "      <th></th>\n",
       "      <th>CRIM</th>\n",
       "      <th>ZN</th>\n",
       "      <th>INDUS</th>\n",
       "      <th>CHAS</th>\n",
       "      <th>NOX</th>\n",
       "      <th>RM</th>\n",
       "      <th>AGE</th>\n",
       "      <th>DIS</th>\n",
       "      <th>RAD</th>\n",
       "      <th>TAX</th>\n",
       "      <th>PTRATIO</th>\n",
       "      <th>B</th>\n",
       "      <th>LSTAT</th>\n",
       "      <th>MEDV</th>\n",
       "    </tr>\n",
       "  </thead>\n",
       "  <tbody>\n",
       "    <tr>\n",
       "      <td>0</td>\n",
       "      <td>0.006</td>\n",
       "      <td>18.000</td>\n",
       "      <td>2.310</td>\n",
       "      <td>0</td>\n",
       "      <td>0.538</td>\n",
       "      <td>6.575</td>\n",
       "      <td>65.200</td>\n",
       "      <td>4.090</td>\n",
       "      <td>1</td>\n",
       "      <td>296.000</td>\n",
       "      <td>15.300</td>\n",
       "      <td>396.900</td>\n",
       "      <td>4.980</td>\n",
       "      <td>24.000</td>\n",
       "    </tr>\n",
       "    <tr>\n",
       "      <td>1</td>\n",
       "      <td>0.027</td>\n",
       "      <td>0.000</td>\n",
       "      <td>7.070</td>\n",
       "      <td>0</td>\n",
       "      <td>0.469</td>\n",
       "      <td>6.421</td>\n",
       "      <td>78.900</td>\n",
       "      <td>4.967</td>\n",
       "      <td>2</td>\n",
       "      <td>242.000</td>\n",
       "      <td>17.800</td>\n",
       "      <td>396.900</td>\n",
       "      <td>9.140</td>\n",
       "      <td>21.600</td>\n",
       "    </tr>\n",
       "    <tr>\n",
       "      <td>2</td>\n",
       "      <td>0.027</td>\n",
       "      <td>0.000</td>\n",
       "      <td>7.070</td>\n",
       "      <td>0</td>\n",
       "      <td>0.469</td>\n",
       "      <td>7.185</td>\n",
       "      <td>61.100</td>\n",
       "      <td>4.967</td>\n",
       "      <td>2</td>\n",
       "      <td>242.000</td>\n",
       "      <td>17.800</td>\n",
       "      <td>392.830</td>\n",
       "      <td>4.030</td>\n",
       "      <td>34.700</td>\n",
       "    </tr>\n",
       "    <tr>\n",
       "      <td>3</td>\n",
       "      <td>0.032</td>\n",
       "      <td>0.000</td>\n",
       "      <td>2.180</td>\n",
       "      <td>0</td>\n",
       "      <td>0.458</td>\n",
       "      <td>6.998</td>\n",
       "      <td>45.800</td>\n",
       "      <td>6.062</td>\n",
       "      <td>3</td>\n",
       "      <td>222.000</td>\n",
       "      <td>18.700</td>\n",
       "      <td>394.630</td>\n",
       "      <td>2.940</td>\n",
       "      <td>33.400</td>\n",
       "    </tr>\n",
       "    <tr>\n",
       "      <td>4</td>\n",
       "      <td>0.069</td>\n",
       "      <td>0.000</td>\n",
       "      <td>2.180</td>\n",
       "      <td>0</td>\n",
       "      <td>0.458</td>\n",
       "      <td>7.147</td>\n",
       "      <td>54.200</td>\n",
       "      <td>6.062</td>\n",
       "      <td>3</td>\n",
       "      <td>222.000</td>\n",
       "      <td>18.700</td>\n",
       "      <td>396.900</td>\n",
       "      <td>5.330</td>\n",
       "      <td>36.200</td>\n",
       "    </tr>\n",
       "  </tbody>\n",
       "</table>\n",
       "</div>"
      ],
      "text/plain": [
       "   CRIM     ZN  INDUS  CHAS   NOX    RM    AGE   DIS  RAD     TAX  PTRATIO  \\\n",
       "0 0.006 18.000  2.310     0 0.538 6.575 65.200 4.090    1 296.000   15.300   \n",
       "1 0.027  0.000  7.070     0 0.469 6.421 78.900 4.967    2 242.000   17.800   \n",
       "2 0.027  0.000  7.070     0 0.469 7.185 61.100 4.967    2 242.000   17.800   \n",
       "3 0.032  0.000  2.180     0 0.458 6.998 45.800 6.062    3 222.000   18.700   \n",
       "4 0.069  0.000  2.180     0 0.458 7.147 54.200 6.062    3 222.000   18.700   \n",
       "\n",
       "        B  LSTAT   MEDV  \n",
       "0 396.900  4.980 24.000  \n",
       "1 396.900  9.140 21.600  \n",
       "2 392.830  4.030 34.700  \n",
       "3 394.630  2.940 33.400  \n",
       "4 396.900  5.330 36.200  "
      ]
     },
     "execution_count": 54,
     "metadata": {},
     "output_type": "execute_result"
    }
   ],
   "source": [
    "df.head()"
   ]
  },
  {
   "cell_type": "code",
   "execution_count": 55,
   "metadata": {},
   "outputs": [],
   "source": [
    "x = df['RM'].values"
   ]
  },
  {
   "cell_type": "code",
   "execution_count": 56,
   "metadata": {},
   "outputs": [],
   "source": [
    "y = df['MEDV'].values"
   ]
  },
  {
   "cell_type": "markdown",
   "metadata": {},
   "source": [
    "## Step 1. Choose a class of model"
   ]
  },
  {
   "cell_type": "code",
   "execution_count": 57,
   "metadata": {},
   "outputs": [],
   "source": [
    "from sklearn.linear_model import RANSACRegressor    # choosong a linear model"
   ]
  },
  {
   "cell_type": "markdown",
   "metadata": {},
   "source": [
    "## Step 2. Arrage data into features matrix and target array"
   ]
  },
  {
   "cell_type": "code",
   "execution_count": 58,
   "metadata": {},
   "outputs": [
    {
     "data": {
      "text/plain": [
       "(506, 1)"
      ]
     },
     "execution_count": 58,
     "metadata": {},
     "output_type": "execute_result"
    }
   ],
   "source": [
    "X = x.reshape(-1, 1)             # feature matrix (reshape as it's in vector)\n",
    "X.shape"
   ]
  },
  {
   "cell_type": "markdown",
   "metadata": {},
   "source": [
    "## Step 3. Choose model hyperparameters"
   ]
  },
  {
   "cell_type": "code",
   "execution_count": 59,
   "metadata": {},
   "outputs": [],
   "source": [
    "model = RANSACRegressor()    # design a model "
   ]
  },
  {
   "cell_type": "markdown",
   "metadata": {},
   "source": [
    "## Step 4. Fit model to data"
   ]
  },
  {
   "cell_type": "code",
   "execution_count": 60,
   "metadata": {},
   "outputs": [
    {
     "data": {
      "text/plain": [
       "RANSACRegressor(base_estimator=None, is_data_valid=None, is_model_valid=None,\n",
       "                loss='absolute_loss', max_skips=inf, max_trials=100,\n",
       "                min_samples=None, random_state=None, residual_threshold=None,\n",
       "                stop_n_inliers=inf, stop_probability=0.99, stop_score=inf)"
      ]
     },
     "execution_count": 60,
     "metadata": {},
     "output_type": "execute_result"
    }
   ],
   "source": [
    "model.fit(X, y)                  # fit model to data"
   ]
  },
  {
   "cell_type": "code",
   "execution_count": 61,
   "metadata": {},
   "outputs": [],
   "source": [
    "inlier_mask = model.inlier_mask_\n",
    "outlier_mask = np.logical_not(inlier_mask)"
   ]
  },
  {
   "cell_type": "code",
   "execution_count": 62,
   "metadata": {},
   "outputs": [
    {
     "data": {
      "text/plain": [
       "array([3, 4, 5, 6, 7, 8, 9])"
      ]
     },
     "execution_count": 62,
     "metadata": {},
     "output_type": "execute_result"
    }
   ],
   "source": [
    "np.arange(3, 10, 1)"
   ]
  },
  {
   "cell_type": "code",
   "execution_count": 63,
   "metadata": {},
   "outputs": [],
   "source": [
    "line_X = np.arange(3, 10, 1)\n",
    "line_y_ransac = model.predict(line_X.reshape(-1, 1))"
   ]
  },
  {
   "cell_type": "markdown",
   "metadata": {},
   "source": [
    "## Visualise"
   ]
  },
  {
   "cell_type": "code",
   "execution_count": 64,
   "metadata": {},
   "outputs": [
    {
     "data": {
      "image/png": "[encoded data removed]",
      "text/plain": [
       "<Figure size 864x720 with 1 Axes>"
      ]
     },
     "metadata": {},
     "output_type": "display_data"
    }
   ],
   "source": [
    "sns.set(style = 'darkgrid', context = 'notebook');\n",
    "plt.figure(figsize=(12,10));\n",
    "\n",
    "plt.scatter(X[inlier_mask], y[inlier_mask], \n",
    "            c = 'blue', marker = 'o', label = 'Inliers');\n",
    "plt.scatter(X[outlier_mask], y[outlier_mask],\n",
    "            c = 'brown', marker = 's', label = 'Outliers');\n",
    "plt.plot(line_X, line_y_ransac, color = 'red');\n",
    "plt.xlabel('average number of rooms per dwelling');\n",
    "plt.ylabel(\"Median value of owner-occupied homes in $1000's\");\n",
    "plt.legend(loc = 'upper left');\n",
    "\n",
    "plt.show();"
   ]
  },
  {
   "cell_type": "code",
   "execution_count": 65,
   "metadata": {},
   "outputs": [
    {
     "data": {
      "text/plain": [
       "array([9.31388567])"
      ]
     },
     "execution_count": 65,
     "metadata": {},
     "output_type": "execute_result"
    }
   ],
   "source": [
    "model.estimator_.coef_"
   ]
  },
  {
   "cell_type": "code",
   "execution_count": 66,
   "metadata": {},
   "outputs": [
    {
     "data": {
      "text/plain": [
       "-36.141103137984196"
      ]
     },
     "execution_count": 66,
     "metadata": {},
     "output_type": "execute_result"
    }
   ],
   "source": [
    "model.estimator_.intercept_"
   ]
  },
  {
   "cell_type": "code",
   "execution_count": 67,
   "metadata": {},
   "outputs": [],
   "source": [
    "x = df['LSTAT'].values;\n",
    "y = df['MEDV'].values;\n",
    "\n",
    "X = x.reshape(-1, 1);             # feature matrix (reshape as it's in vector)\n",
    "X.shape;\n",
    "\n",
    "model = RANSACRegressor();    # design a model \n",
    "model.fit(X, y);                  # fit model to data\n",
    "\n",
    "inlier_mask = model.inlier_mask_;\n",
    "outlier_mask = np.logical_not(inlier_mask);\n",
    "\n",
    "line_X = np.arange(0, 40, 1);\n",
    "line_y_ransac = model.predict(line_X.reshape(-1, 1));"
   ]
  },
  {
   "cell_type": "code",
   "execution_count": 68,
   "metadata": {},
   "outputs": [
    {
     "data": {
      "image/png": "[encoded data removed]",
      "text/plain": [
       "<Figure size 864x720 with 1 Axes>"
      ]
     },
     "metadata": {},
     "output_type": "display_data"
    }
   ],
   "source": [
    "sns.set(style = 'darkgrid', context = 'notebook');\n",
    "plt.figure(figsize=(12,10));\n",
    "\n",
    "plt.scatter(X[inlier_mask], y[inlier_mask], \n",
    "            c = 'blue', marker = 'o', label = 'Inliers');\n",
    "plt.scatter(X[outlier_mask], y[outlier_mask],\n",
    "            c = 'brown', marker = 's', label = 'Outliers');\n",
    "plt.plot(line_X, line_y_ransac, color = 'red');\n",
    "plt.xlabel('% lower status of the population');\n",
    "plt.ylabel(\"Median value of owner-occupied homes in $1000's\");\n",
    "plt.legend(loc = 'upper right');\n",
    "\n",
    "plt.show();"
   ]
  },
  {
   "cell_type": "code",
   "execution_count": 69,
   "metadata": {},
   "outputs": [
    {
     "data": {
      "text/plain": [
       "array([-0.78748077])"
      ]
     },
     "execution_count": 69,
     "metadata": {},
     "output_type": "execute_result"
    }
   ],
   "source": [
    "model.estimator_.coef_"
   ]
  },
  {
   "cell_type": "code",
   "execution_count": 70,
   "metadata": {},
   "outputs": [
    {
     "data": {
      "text/plain": [
       "29.60308086844576"
      ]
     },
     "execution_count": 70,
     "metadata": {},
     "output_type": "execute_result"
    }
   ],
   "source": [
    "model.estimator_.intercept_"
   ]
  },
  {
   "cell_type": "markdown",
   "metadata": {},
   "source": [
    "# Performance Evaluation of Regression Model"
   ]
  },
  {
   "cell_type": "code",
   "execution_count": 71,
   "metadata": {},
   "outputs": [],
   "source": [
    "from sklearn.model_selection import train_test_split\n",
    "from sklearn.linear_model import LinearRegression    # choosong a linear model"
   ]
  },
  {
   "cell_type": "code",
   "execution_count": 72,
   "metadata": {},
   "outputs": [],
   "source": [
    "x = df['LSTAT'].values\n",
    "X = x.reshape(-1, 1)"
   ]
  },
  {
   "cell_type": "code",
   "execution_count": 73,
   "metadata": {},
   "outputs": [],
   "source": [
    "#X = df['LSTAT'].values.reshape(-1,1)\n",
    "#X = df.iloc[:, :-1].values"
   ]
  },
  {
   "cell_type": "code",
   "execution_count": 74,
   "metadata": {},
   "outputs": [],
   "source": [
    "y = df['MEDV'].values"
   ]
  },
  {
   "cell_type": "code",
   "execution_count": 75,
   "metadata": {},
   "outputs": [],
   "source": [
    "X_train, X_test, y_train, y_test = train_test_split(X, y, test_size=0.2, random_state=0)"
   ]
  },
  {
   "cell_type": "code",
   "execution_count": 76,
   "metadata": {},
   "outputs": [],
   "source": [
    "model = LinearRegression()    # design a model"
   ]
  },
  {
   "cell_type": "code",
   "execution_count": 77,
   "metadata": {},
   "outputs": [
    {
     "data": {
      "text/plain": [
       "LinearRegression(copy_X=True, fit_intercept=True, n_jobs=None, normalize=False)"
      ]
     },
     "execution_count": 77,
     "metadata": {},
     "output_type": "execute_result"
    }
   ],
   "source": [
    "model.fit(X_train, y_train)"
   ]
  },
  {
   "cell_type": "code",
   "execution_count": 78,
   "metadata": {},
   "outputs": [],
   "source": [
    "y_train_pred = model.predict(X_train)"
   ]
  },
  {
   "cell_type": "code",
   "execution_count": 79,
   "metadata": {},
   "outputs": [],
   "source": [
    "y_test_pred = model.predict(X_test)"
   ]
  },
  {
   "cell_type": "markdown",
   "metadata": {},
   "source": [
    "# Method 1: Residual Analysis"
   ]
  },
  {
   "cell_type": "code",
   "execution_count": 80,
   "metadata": {},
   "outputs": [
    {
     "data": {
      "image/png": "[encoded data removed]",
      "text/plain": [
       "<Figure size 864x576 with 1 Axes>"
      ]
     },
     "metadata": {},
     "output_type": "display_data"
    }
   ],
   "source": [
    "plt.figure(figsize=(12,8));\n",
    "\n",
    "plt.scatter(y_train_pred, y_train_pred - y_train, c = 'blue', marker = 'o', label = 'Training data')\n",
    "plt.scatter(y_test_pred, y_test_pred - y_test, c = 'orange', marker = '*', label = 'Test data')\n",
    "plt.xlabel('Predicted values')\n",
    "plt.ylabel('Residuals')\n",
    "plt.legend(loc = 'upper left')\n",
    "plt.hlines(y = 0, xmin = -10, xmax = 50, lw = 2, color = 'k')\n",
    "plt.xlim([-10, 50])\n",
    "\n",
    "plt.show();"
   ]
  },
  {
   "cell_type": "markdown",
   "metadata": {},
   "source": [
    "# Method 2: Mean Squared Error (MSE)\n",
    "\n",
    "$$MSE=\\frac{1}{n}\\sum^n_{i=1}(y_i-\\hat{y}_i)^2$$\n",
    "\n",
    "* The average value of the Sums of Squared Error cost function  \n",
    "\n",
    "* Useful for comparing different regression models \n",
    "\n",
    "* For tuning parameters via a grid search and cross-validation"
   ]
  },
  {
   "cell_type": "code",
   "execution_count": 81,
   "metadata": {},
   "outputs": [],
   "source": [
    "from sklearn.metrics import mean_squared_error"
   ]
  },
  {
   "cell_type": "code",
   "execution_count": 82,
   "metadata": {},
   "outputs": [
    {
     "data": {
      "text/plain": [
       "36.523966406959666"
      ]
     },
     "execution_count": 82,
     "metadata": {},
     "output_type": "execute_result"
    }
   ],
   "source": [
    "mean_squared_error(y_train, y_train_pred)"
   ]
  },
  {
   "cell_type": "code",
   "execution_count": 83,
   "metadata": {},
   "outputs": [
    {
     "data": {
      "text/plain": [
       "46.33630536002592"
      ]
     },
     "execution_count": 83,
     "metadata": {},
     "output_type": "execute_result"
    }
   ],
   "source": [
    "mean_squared_error(y_test, y_test_pred)"
   ]
  },
  {
   "cell_type": "markdown",
   "metadata": {},
   "source": [
    "# Method 3: Coefficient of Determination, $R^2$\n",
    "\n",
    "$$R^2 = 1 - \\frac{SSE}{SST}$$\n",
    "\n",
    "SSE: Sum of squared errors\n",
    "\n",
    "SST: Total sum of squares"
   ]
  },
  {
   "cell_type": "code",
   "execution_count": 84,
   "metadata": {},
   "outputs": [],
   "source": [
    "from sklearn.metrics import r2_score"
   ]
  },
  {
   "cell_type": "code",
   "execution_count": 85,
   "metadata": {},
   "outputs": [
    {
     "data": {
      "text/plain": [
       "0.571031588576562"
      ]
     },
     "execution_count": 85,
     "metadata": {},
     "output_type": "execute_result"
    }
   ],
   "source": [
    "r2_score(y_train, y_train_pred)"
   ]
  },
  {
   "cell_type": "code",
   "execution_count": 86,
   "metadata": {},
   "outputs": [
    {
     "data": {
      "text/plain": [
       "0.43095672846187616"
      ]
     },
     "execution_count": 86,
     "metadata": {},
     "output_type": "execute_result"
    }
   ],
   "source": [
    "r2_score(y_test, y_test_pred)"
   ]
  }
 ],
 "metadata": {
  "kernelspec": {
   "display_name": "Python 3",
   "language": "python",
   "name": "python3"
  },
  "language_info": {
   "codemirror_mode": {
    "name": "ipython",
    "version": 3
   },
   "file_extension": ".py",
   "mimetype": "text/x-python",
   "name": "python",
   "nbconvert_exporter": "python",
   "pygments_lexer": "ipython3",
   "version": "3.7.4"
  }
 },
 "nbformat": 4,
 "nbformat_minor": 2
}
